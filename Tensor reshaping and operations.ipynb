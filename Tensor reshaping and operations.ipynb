{
  "nbformat": 4,
  "nbformat_minor": 0,
  "metadata": {
    "colab": {
      "provenance": [],
      "authorship_tag": "ABX9TyPks7uXlnq2WdaUWvCYLYBg",
      "include_colab_link": true
    },
    "kernelspec": {
      "name": "python3",
      "display_name": "Python 3"
    },
    "language_info": {
      "name": "python"
    }
  },
  "cells": [
    {
      "cell_type": "markdown",
      "metadata": {
        "id": "view-in-github",
        "colab_type": "text"
      },
      "source": [
        "<a href=\"https://colab.research.google.com/github/Vishal-113/Tensor_Manupulations/blob/main/Tensor%20reshaping%20and%20operations.ipynb\" target=\"_parent\"><img src=\"https://colab.research.google.com/assets/colab-badge.svg\" alt=\"Open In Colab\"/></a>"
      ]
    },
    {
      "cell_type": "code",
      "execution_count": 1,
      "metadata": {
        "colab": {
          "base_uri": "https://localhost:8080/"
        },
        "id": "DJKtT7DWb8kH",
        "outputId": "061f9774-f1ca-4c71-e891-9b7e80f04020"
      },
      "outputs": [
        {
          "output_type": "stream",
          "name": "stdout",
          "text": [
            "Original Tensor Rank: 2\n",
            "Original Tensor Shape: [4 6]\n",
            "After Reshaping to (2, 3, 4): (2, 3, 4)\n",
            "After Transposing to (3, 2, 4): (3, 2, 4)\n",
            "Broadcasted Addition Result Shape: (3, 2, 4)\n"
          ]
        }
      ],
      "source": [
        "import tensorflow as tf\n",
        "tensor = tf.random.uniform(shape=(4, 6))\n",
        "rank_before = tf.rank(tensor)\n",
        "shape_before = tf.shape(tensor)\n",
        "reshaped_tensor = tf.reshape(tensor, (2, 3, 4))\n",
        "transposed_tensor = tf.transpose(reshaped_tensor, perm=[1, 0, 2])\n",
        "small_tensor = tf.constant([[1, 2, 3, 4]], dtype=tf.float32)  # Force float32 type\n",
        "broadcasted = transposed_tensor + small_tensor\n",
        "print(\"Original Tensor Rank:\", rank_before.numpy())\n",
        "print(\"Original Tensor Shape:\", shape_before.numpy())\n",
        "print(\"After Reshaping to (2, 3, 4):\", reshaped_tensor.shape)\n",
        "print(\"After Transposing to (3, 2, 4):\", transposed_tensor.shape)\n",
        "print(\"Broadcasted Addition Result Shape:\", broadcasted.shape)\n"
      ]
    }
  ]
}