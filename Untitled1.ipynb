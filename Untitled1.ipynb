{
  "nbformat": 4,
  "nbformat_minor": 0,
  "metadata": {
    "colab": {
      "provenance": [],
      "authorship_tag": "ABX9TyPOUSrye/Q3Fvddhzi4tolk",
      "include_colab_link": true
    },
    "kernelspec": {
      "name": "python3",
      "display_name": "Python 3"
    },
    "language_info": {
      "name": "python"
    }
  },
  "cells": [
    {
      "cell_type": "markdown",
      "metadata": {
        "id": "view-in-github",
        "colab_type": "text"
      },
      "source": [
        "<a href=\"https://colab.research.google.com/github/Vishal-113/Tensor_Manupulations/blob/main/Untitled1.ipynb\" target=\"_parent\"><img src=\"https://colab.research.google.com/assets/colab-badge.svg\" alt=\"Open In Colab\"/></a>"
      ]
    },
    {
      "cell_type": "code",
      "execution_count": 2,
      "metadata": {
        "colab": {
          "base_uri": "https://localhost:8080/",
          "height": 0
        },
        "id": "SPOWRMP_XaMN",
        "outputId": "ec9993da-906f-48c7-8b17-a953a21559ef"
      },
      "outputs": [
        {
          "output_type": "stream",
          "name": "stdout",
          "text": [
            "Original Tensor:\n",
            "tf.Tensor(\n",
            "[[0.02468085 0.83316064 0.42360544 0.21059239 0.3010366  0.29992867]\n",
            " [0.40153325 0.9703667  0.44805026 0.07482505 0.89285874 0.2691295 ]\n",
            " [0.9866364  0.49101162 0.15433717 0.1784308  0.95786226 0.6835048 ]\n",
            " [0.8453958  0.06542456 0.29543424 0.00153482 0.6009108  0.65459216]], shape=(4, 6), dtype=float32)\n",
            "Original Tensor Rank: 2\n",
            "Original Tensor Shape: [4 6]\n",
            "Tensor after Reshaping:\n",
            "tf.Tensor(\n",
            "[[[0.02468085 0.83316064 0.42360544 0.21059239]\n",
            "  [0.3010366  0.29992867 0.40153325 0.9703667 ]\n",
            "  [0.44805026 0.07482505 0.89285874 0.2691295 ]]\n",
            "\n",
            " [[0.9866364  0.49101162 0.15433717 0.1784308 ]\n",
            "  [0.95786226 0.6835048  0.8453958  0.06542456]\n",
            "  [0.29543424 0.00153482 0.6009108  0.65459216]]], shape=(2, 3, 4), dtype=float32)\n",
            "Tensor after Transposing:\n",
            "tf.Tensor(\n",
            "[[[0.02468085 0.83316064 0.42360544 0.21059239]\n",
            "  [0.9866364  0.49101162 0.15433717 0.1784308 ]]\n",
            "\n",
            " [[0.3010366  0.29992867 0.40153325 0.9703667 ]\n",
            "  [0.95786226 0.6835048  0.8453958  0.06542456]]\n",
            "\n",
            " [[0.44805026 0.07482505 0.89285874 0.2691295 ]\n",
            "  [0.29543424 0.00153482 0.6009108  0.65459216]]], shape=(3, 2, 4), dtype=float32)\n",
            "Broadcasted Tensor:\n",
            "tf.Tensor(\n",
            "[[[0.7132102  0.05563605 0.38055134 0.22703958]\n",
            "  [0.7132102  0.05563605 0.38055134 0.22703958]]\n",
            "\n",
            " [[0.7132102  0.05563605 0.38055134 0.22703958]\n",
            "  [0.7132102  0.05563605 0.38055134 0.22703958]]\n",
            "\n",
            " [[0.7132102  0.05563605 0.38055134 0.22703958]\n",
            "  [0.7132102  0.05563605 0.38055134 0.22703958]]], shape=(3, 2, 4), dtype=float32)\n",
            "Tensor after Addition:\n",
            "tf.Tensor(\n",
            "[[[0.7378911  0.8887967  0.8041568  0.43763196]\n",
            "  [1.6998466  0.54664767 0.5348885  0.40547037]]\n",
            "\n",
            " [[1.0142468  0.3555647  0.7820846  1.1974063 ]\n",
            "  [1.6710725  0.73914087 1.2259471  0.29246414]]\n",
            "\n",
            " [[1.1612605  0.1304611  1.2734101  0.4961691 ]\n",
            "  [1.0086445  0.05717087 0.9814621  0.88163173]]], shape=(3, 2, 4), dtype=float32)\n"
          ]
        }
      ],
      "source": [
        "import tensorflow as tf\n",
        "\n",
        "# Step 1: Create a random tensor of shape (4, 6)\n",
        "tensor = tf.random.uniform(shape=(4, 6))\n",
        "print(\"Original Tensor:\")\n",
        "print(tensor)\n",
        "\n",
        "# Step 2: Find its rank and shape\n",
        "rank = tf.rank(tensor)\n",
        "shape = tf.shape(tensor)\n",
        "print(f\"Original Tensor Rank: {rank.numpy()}\")\n",
        "print(f\"Original Tensor Shape: {shape.numpy()}\")\n",
        "\n",
        "# Step 3: Reshape the tensor to (2, 3, 4) and transpose it to (3, 2, 4)\n",
        "reshaped_tensor = tf.reshape(tensor, shape=(2, 3, 4))\n",
        "transposed_tensor = tf.transpose(reshaped_tensor, perm=[1, 0, 2])\n",
        "print(\"Tensor after Reshaping:\")\n",
        "print(reshaped_tensor)\n",
        "print(\"Tensor after Transposing:\")\n",
        "print(transposed_tensor)\n",
        "\n",
        "# Step 4: Broadcast a smaller tensor (1, 4) to match the larger tensor and add them\n",
        "small_tensor = tf.random.uniform(shape=(1, 4))\n",
        "broadcasted_tensor = tf.broadcast_to(small_tensor, shape=(3, 2, 4))\n",
        "added_tensor = transposed_tensor + broadcasted_tensor\n",
        "print(\"Broadcasted Tensor:\")\n",
        "print(broadcasted_tensor)\n",
        "print(\"Tensor after Addition:\")\n",
        "print(added_tensor)\n",
        "\n"
      ]
    }
  ]
}